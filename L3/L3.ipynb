{
 "cells": [
  {
   "cell_type": "markdown",
   "metadata": {},
   "source": [
    "#使用KMeans进行聚类"
   ]
  },
  {
   "cell_type": "code",
   "execution_count": 1,
   "metadata": {},
   "outputs": [],
   "source": [
    "from sklearn.cluster import KMeans"
   ]
  },
  {
   "cell_type": "code",
   "execution_count": 2,
   "metadata": {},
   "outputs": [],
   "source": [
    "from sklearn import preprocessing"
   ]
  },
  {
   "cell_type": "code",
   "execution_count": 3,
   "metadata": {},
   "outputs": [],
   "source": [
    "import pandas as pd\n",
    "import numpy as np"
   ]
  },
  {
   "cell_type": "markdown",
   "metadata": {},
   "source": [
    "#数据加载"
   ]
  },
  {
   "cell_type": "code",
   "execution_count": 15,
   "metadata": {},
   "outputs": [
    {
     "name": "stdout",
     "output_type": "stream",
     "text": [
      "    人均GDP  城镇人口比重  交通工具消费价格指数  百户拥有汽车量\n",
      "0    8.05   86.20       95.92    37.71\n",
      "1    8.34   80.50      103.57    20.62\n",
      "2    3.39   45.60       99.03    23.32\n",
      "3    3.13   49.68       98.96    18.60\n",
      "4    5.79   56.62       99.11    19.62\n",
      "5    5.07   64.05      100.12    11.15\n",
      "6    3.84   53.40       97.15    11.24\n",
      "7    3.28   56.50      100.54     5.29\n",
      "8    8.18   89.30      101.58    18.15\n",
      "9    6.22   61.90       98.95    23.92\n",
      "10   5.92   62.30       96.69    33.85\n",
      "11   2.56   44.80      100.25     9.20\n",
      "12   4.72   58.10      100.75    17.83\n",
      "13   2.61   45.70      100.91     8.88\n",
      "14   4.71   50.95       98.50    28.12\n",
      "15   2.87   40.57      100.59    14.06\n",
      "16   3.41   51.83      101.15     9.69\n",
      "17   2.98   45.10      100.02    12.82\n",
      "18   5.07   66.50       97.55    30.71\n",
      "19   2.52   41.80      102.28    17.24\n",
      "20   2.88   50.50      102.26    15.82\n",
      "21   3.43   55.02       99.12    10.44\n",
      "22   2.61   41.83       99.76    12.52\n",
      "23   1.64   34.96      100.71    10.48\n",
      "24   1.92   36.80       96.25    23.32\n",
      "25   2.00   22.71       99.95    25.30\n",
      "26   3.34   47.30      101.59    12.22\n",
      "27   1.96   37.15      100.54     7.33\n",
      "28   2.94   46.22      100.46     6.08\n",
      "29   3.29   49.82      100.99    12.40\n",
      "30   2.99   43.54      100.97    12.32\n"
     ]
    }
   ],
   "source": [
    "data=pd.read_csv('D:\\Anaconda3\\source\\car_data.csv',encoding='gbk')\n",
    "train_x=data[[\"人均GDP\",\"城镇人口比重\",\"交通工具消费价格指数\",\"百户拥有汽车量\"]]\n",
    "print(train_x)"
   ]
  },
  {
   "cell_type": "markdown",
   "metadata": {},
   "source": [
    "# 规范化到 [0,1] 空间"
   ]
  },
  {
   "cell_type": "code",
   "execution_count": 16,
   "metadata": {},
   "outputs": [
    {
     "name": "stdout",
     "output_type": "stream",
     "text": [
      "[[0.95671642 0.95344646 0.         1.        ]\n",
      " [1.         0.86784803 1.         0.47285626]\n",
      " [0.26119403 0.34374531 0.40653595 0.55613819]\n",
      " [0.22238806 0.40501577 0.39738562 0.41054904]\n",
      " [0.61940299 0.50923562 0.41699346 0.4420111 ]\n",
      " [0.5119403  0.62081394 0.54901961 0.18075262]\n",
      " [0.32835821 0.46088001 0.16078431 0.18352869]\n",
      " [0.24477612 0.50743355 0.60392157 0.        ]\n",
      " [0.9761194  1.         0.73986928 0.39666872]\n",
      " [0.68358209 0.58852681 0.39607843 0.57464528]\n",
      " [0.63880597 0.59453371 0.10065359 0.88093769]\n",
      " [0.13731343 0.33173149 0.56601307 0.12060457]\n",
      " [0.45970149 0.53146118 0.63137255 0.38679827]\n",
      " [0.14477612 0.34524703 0.65228758 0.11073411]\n",
      " [0.45820896 0.4240877  0.3372549  0.70419494]\n",
      " [0.18358209 0.26820844 0.61045752 0.27051203]\n",
      " [0.2641791  0.4373029  0.68366013 0.13571869]\n",
      " [0.2        0.33623667 0.53594771 0.23226403]\n",
      " [0.5119403  0.65760625 0.2130719  0.7840839 ]\n",
      " [0.13134328 0.28667968 0.83137255 0.36859963]\n",
      " [0.18507463 0.41732993 0.82875817 0.32479951]\n",
      " [0.26716418 0.48520799 0.41830065 0.15885256]\n",
      " [0.14477612 0.2871302  0.50196078 0.22301049]\n",
      " [0.         0.18396156 0.62614379 0.16008637]\n",
      " [0.04179104 0.21159333 0.04313725 0.55613819]\n",
      " [0.05373134 0.         0.52679739 0.6172116 ]\n",
      " [0.25373134 0.36927467 0.74117647 0.21375694]\n",
      " [0.04776119 0.21684938 0.60392157 0.06292412]\n",
      " [0.19402985 0.35305601 0.59346405 0.02436767]\n",
      " [0.24626866 0.40711819 0.6627451  0.21930907]\n",
      " [0.20149254 0.31280973 0.66013072 0.21684146]]\n"
     ]
    }
   ],
   "source": [
    "min_max_scaler=preprocessing.MinMaxScaler()\n",
    "train_x=min_max_scaler.fit_transform(train_x)\n",
    "pd.DataFrame(train_x).to_csv('temp.csv',index=False)\n",
    "print(train_x)"
   ]
  },
  {
   "cell_type": "markdown",
   "metadata": {},
   "source": [
    "# K-Means 手肘法：统计不同K取值的误差平方和"
   ]
  },
  {
   "cell_type": "code",
   "execution_count": 20,
   "metadata": {},
   "outputs": [
    {
     "data": {
      "image/png": "[encoded data removed]",
      "text/plain": [
       "<Figure size 432x288 with 1 Axes>"
      ]
     },
     "metadata": {
      "needs_background": "light"
     },
     "output_type": "display_data"
    }
   ],
   "source": [
    "import matplotlib.pyplot as plt\n",
    "sse=[]\n",
    "for k in range(1,11):\n",
    "    #kmeans算法\n",
    "    kmeans=KMeans(n_clusters=k)\n",
    "    kmeans.fit(train_x)\n",
    "    #计算inertia簇内误差平方和\n",
    "    sse.append(kmeans.inertia_)\n",
    "x=range(1,11)\n",
    "plt.xlabel('k')\n",
    "plt.ylabel('sse')\n",
    "plt.plot(x,sse,'o-')\n",
    "plt.show()"
   ]
  },
  {
   "cell_type": "markdown",
   "metadata": {},
   "source": [
    "### 使用KMeans聚类"
   ]
  },
  {
   "cell_type": "code",
   "execution_count": 23,
   "metadata": {},
   "outputs": [
    {
     "name": "stdout",
     "output_type": "stream",
     "text": [
      "     地区  人均GDP  城镇人口比重  交通工具消费价格指数  百户拥有汽车量  聚类结果\n",
      "0    北京   8.05   86.20       95.92    37.71     0\n",
      "1    天津   8.34   80.50      103.57    20.62     2\n",
      "2    河北   3.39   45.60       99.03    23.32     3\n",
      "3    山西   3.13   49.68       98.96    18.60     3\n",
      "4   内蒙古   5.79   56.62       99.11    19.62     0\n",
      "5    辽宁   5.07   64.05      100.12    11.15     1\n",
      "6    吉林   3.84   53.40       97.15    11.24     3\n",
      "7   黑龙江   3.28   56.50      100.54     5.29     1\n",
      "8    上海   8.18   89.30      101.58    18.15     2\n",
      "9    江苏   6.22   61.90       98.95    23.92     0\n",
      "10   浙江   5.92   62.30       96.69    33.85     0\n",
      "11   安徽   2.56   44.80      100.25     9.20     1\n",
      "12   福建   4.72   58.10      100.75    17.83     1\n",
      "13   江西   2.61   45.70      100.91     8.88     1\n",
      "14   山东   4.71   50.95       98.50    28.12     0\n",
      "15   河南   2.87   40.57      100.59    14.06     1\n",
      "16   湖北   3.41   51.83      101.15     9.69     1\n",
      "17   湖南   2.98   45.10      100.02    12.82     1\n",
      "18   广东   5.07   66.50       97.55    30.71     0\n",
      "19   广西   2.52   41.80      102.28    17.24     1\n",
      "20   海南   2.88   50.50      102.26    15.82     1\n",
      "21   重庆   3.43   55.02       99.12    10.44     1\n",
      "22   四川   2.61   41.83       99.76    12.52     1\n",
      "23   贵州   1.64   34.96      100.71    10.48     1\n",
      "24   云南   1.92   36.80       96.25    23.32     3\n",
      "25   西藏   2.00   22.71       99.95    25.30     3\n",
      "26   陕西   3.34   47.30      101.59    12.22     1\n",
      "27   甘肃   1.96   37.15      100.54     7.33     1\n",
      "28   青海   2.94   46.22      100.46     6.08     1\n",
      "29   宁夏   3.29   49.82      100.99    12.40     1\n",
      "30   新疆   2.99   43.54      100.97    12.32     1\n"
     ]
    }
   ],
   "source": [
    "kmeans=KMeans(n_clusters=4)\n",
    "kmeans.fit(train_x)\n",
    "predict_y=kmeans.predict(train_x)\n",
    "# 合并聚类结果，插入到原数据中\n",
    "result=pd.concat((data,pd.DataFrame(predict_y)),axis=1)\n",
    "result.rename({0:u'聚类结果'},axis=1,inplace=True)\n",
    "print(result)"
   ]
  },
  {
   "cell_type": "code",
   "execution_count": 31,
   "metadata": {},
   "outputs": [],
   "source": [
    "result.to_csv(\"D:\\Anaconda3\\source\\car_cluster.csv\",index=True,encoding='gbk')"
   ]
  },
  {
   "cell_type": "markdown",
   "metadata": {},
   "source": [
    "### 使用层次聚类"
   ]
  },
  {
   "cell_type": "code",
   "execution_count": 25,
   "metadata": {},
   "outputs": [],
   "source": [
    "from scipy.cluster.hierarchy import dendrogram, ward\n",
    "from sklearn.cluster import KMeans, AgglomerativeClustering\n",
    "import matplotlib.pyplot as plt"
   ]
  },
  {
   "cell_type": "code",
   "execution_count": 26,
   "metadata": {},
   "outputs": [
    {
     "name": "stdout",
     "output_type": "stream",
     "text": [
      "[1 2 0 0 1 0 0 3 2 1 1 3 0 3 1 3 3 3 1 3 3 3 3 3 0 0 3 3 3 3 3]\n"
     ]
    },
    {
     "data": {
      "image/png": "[encoded data removed]",
      "text/plain": [
       "<Figure size 432x288 with 1 Axes>"
      ]
     },
     "metadata": {
      "needs_background": "light"
     },
     "output_type": "display_data"
    }
   ],
   "source": [
    "model = AgglomerativeClustering(linkage='ward', n_clusters=4)\n",
    "y = model.fit_predict(train_x)\n",
    "print(y)\n",
    "linkage_matrix = ward(train_x)\n",
    "dendrogram(linkage_matrix)\n",
    "plt.show()"
   ]
  },
  {
   "cell_type": "code",
   "execution_count": null,
   "metadata": {},
   "outputs": [],
   "source": []
  }
 ],
 "metadata": {
  "kernelspec": {
   "display_name": "Python 3",
   "language": "python",
   "name": "python3"
  },
  "language_info": {
   "codemirror_mode": {
    "name": "ipython",
    "version": 3
   },
   "file_extension": ".py",
   "mimetype": "text/x-python",
   "name": "python",
   "nbconvert_exporter": "python",
   "pygments_lexer": "ipython3",
   "version": "3.7.6"
  }
 },
 "nbformat": 4,
 "nbformat_minor": 4
}
