{
 "cells": [
  {
   "cell_type": "code",
   "execution_count": 1,
   "metadata": {},
   "outputs": [],
   "source": [
    "import pandas as pd"
   ]
  },
  {
   "cell_type": "code",
   "execution_count": 19,
   "metadata": {},
   "outputs": [],
   "source": [
    "result=pd.read_csv('D:\\Anaconda3\\source\\car_complain.csv')"
   ]
  },
  {
   "cell_type": "code",
   "execution_count": 20,
   "metadata": {},
   "outputs": [],
   "source": [
    "result=result.drop('problem',1).join(result.problem.str.get_dummies(','))"
   ]
  },
  {
   "cell_type": "code",
   "execution_count": 21,
   "metadata": {},
   "outputs": [
    {
     "name": "stdout",
     "output_type": "stream",
     "text": [
      "         id  brand     car_model                   type  \\\n",
      "0    482028  一汽马自达           阿特兹       2020款 2.5L 蓝天运动版   \n",
      "1    482027   江淮汽车       江淮iEV6E            2017款 iEV6E   \n",
      "2    482026  一汽马自达           阿特兹       2020款 2.5L 蓝天运动版   \n",
      "3    482022  一汽-大众            迈腾   2009款 1.8TSI DSG 舒适型   \n",
      "4    482019   众泰汽车  众泰T600 Coupe      2017款 1.5T 自动 尊享型   \n",
      "..      ...    ...           ...                    ...   \n",
      "595  480802   北京现代            领动   2016款 1.6L 自动 智炫·精英型   \n",
      "596  480801  一汽-大众           高尔夫   2016款 1.4TSI 25周年纪念版   \n",
      "597  480799   吉利汽车            星越    2020款 350T 魅影骑士版AWD   \n",
      "598  480798   北京现代            悦纳  2016款 1.4L 手动 炫酷版 GLS   \n",
      "599  480795   东风日产            逍客     2016款 2.0L CVT 精英版   \n",
      "\n",
      "                       desc    datetime status  A11  A114  A12  ...  N318  \\\n",
      "0       一汽马自达阿特兹B柱异响 车内异响严重  2020-06-08   信息审核    0     0    0  ...     0   \n",
      "1        江淮iEV6E动力电池故障 无法充电  2020-06-08   信息审核    0     0    0  ...     0   \n",
      "2         一汽马自达阿特兹车身异响 天窗异响  2020-06-08   信息审核    0     0    0  ...     0   \n",
      "3        一汽大众迈腾起步和刹车时车辆抖动\\t  2020-06-08   信息审核    0     0    0  ...     0   \n",
      "4    众泰T600 Coupe售后维修配件一直缺货  2020-06-08   厂家受理    0     0    0  ...     1   \n",
      "..                      ...         ...    ...  ...   ...  ...  ...   ...   \n",
      "595   北京现代领动ABS和防侧滑故障灯同时亮\\t  2020-06-05   信息审核    0     0    0  ...     0   \n",
      "596      一汽大众高尔夫仪表提示变速箱挂入P挡  2020-06-05   处理反馈    0     0    0  ...     0   \n",
      "597       吉利星越车机系统虚假宣传 卡顿严重  2020-06-05   用户评分    0     0    0  ...     0   \n",
      "598         北京现代悦纳发动机曲轴螺丝断裂  2020-06-05   信息审核    0     0    0  ...     0   \n",
      "599      东风日产逍客变速箱报故障码P17F1  2020-06-05   处理反馈    0     0    0  ...     0   \n",
      "\n",
      "     N319  O296  O326  O348  O354  Q322  Q323  Q349  Q350  \n",
      "0       0     0     0     0     0     0     0     0     0  \n",
      "1       0     0     0     0     0     0     0     0     0  \n",
      "2       0     0     0     0     0     0     0     0     0  \n",
      "3       0     0     0     0     0     0     0     0     0  \n",
      "4       0     0     0     0     0     0     0     0     0  \n",
      "..    ...   ...   ...   ...   ...   ...   ...   ...   ...  \n",
      "595     0     0     0     0     0     0     0     0     0  \n",
      "596     0     0     0     0     0     0     0     0     0  \n",
      "597     0     0     0     0     0     0     0     0     0  \n",
      "598     0     0     0     0     0     0     0     0     0  \n",
      "599     0     0     0     0     0     0     0     0     0  \n",
      "\n",
      "[600 rows x 181 columns]\n"
     ]
    }
   ],
   "source": [
    "print(result)"
   ]
  },
  {
   "cell_type": "code",
   "execution_count": 22,
   "metadata": {},
   "outputs": [],
   "source": [
    "df=result.groupby(['brand'])['id'].agg(['count'])"
   ]
  },
  {
   "cell_type": "code",
   "execution_count": 23,
   "metadata": {},
   "outputs": [
    {
     "name": "stdout",
     "output_type": "stream",
     "text": [
      "品牌投诉总数:          count\n",
      "brand         \n",
      "吉利汽车        96\n",
      "一汽马自达       95\n",
      "一汽-大众       52\n",
      "上汽大众        36\n",
      "一汽-大众奥迪     19\n",
      "...        ...\n",
      "开瑞汽车         1\n",
      "天津一汽         1\n",
      "凯翼汽车         1\n",
      "奇瑞新能源        1\n",
      "东风风行         1\n",
      "\n",
      "[75 rows x 1 columns]\n"
     ]
    }
   ],
   "source": [
    "print('品牌投诉总数:',df.sort_values('count',ascending=False))"
   ]
  },
  {
   "cell_type": "code",
   "execution_count": 24,
   "metadata": {},
   "outputs": [],
   "source": [
    "df1=result.groupby(['car_model'])['id'].agg(['count'])"
   ]
  },
  {
   "cell_type": "code",
   "execution_count": 26,
   "metadata": {},
   "outputs": [
    {
     "name": "stdout",
     "output_type": "stream",
     "text": [
      "车型投诉总数:            count\n",
      "car_model       \n",
      "阿特兹           75\n",
      "星越            43\n",
      "速腾            22\n",
      "马自达CX-4       20\n",
      "博越            13\n",
      "...          ...\n",
      "悦翔             1\n",
      "捷豹XEL          1\n",
      "捷豹XFL          1\n",
      "撼路者            1\n",
      "高尔夫（进口）        1\n",
      "\n",
      "[212 rows x 1 columns]\n"
     ]
    }
   ],
   "source": [
    "print('车型投诉总数:',df1.sort_values('count',ascending=False))"
   ]
  },
  {
   "cell_type": "code",
   "execution_count": 28,
   "metadata": {},
   "outputs": [
    {
     "name": "stdout",
     "output_type": "stream",
     "text": [
      "            count\n",
      "brand            \n",
      "一汽-大众    8.666667\n",
      "一汽-大众奥迪  3.166667\n",
      "一汽丰田     2.000000\n",
      "一汽吉林     1.000000\n",
      "一汽大众     6.000000\n",
      "...           ...\n",
      "长安汽车     1.200000\n",
      "长安铃木     1.000000\n",
      "长安马自达    2.000000\n",
      "雷克萨斯     1.000000\n",
      "领克汽车     2.500000\n",
      "\n",
      "[75 rows x 1 columns]\n"
     ]
    }
   ],
   "source": [
    "df2=result.groupby(['brand','car_model'])['id'].agg(['count']).groupby(['brand']).mean()\n",
    "print(df2)"
   ]
  },
  {
   "cell_type": "code",
   "execution_count": 30,
   "metadata": {},
   "outputs": [
    {
     "name": "stdout",
     "output_type": "stream",
     "text": [
      "平均车型投诉总数:             count\n",
      "brand            \n",
      "一汽马自达   47.500000\n",
      "吉利汽车     9.600000\n",
      "一汽-大众    8.666667\n",
      "一汽大众     6.000000\n",
      "广汽丰田     5.666667\n",
      "...           ...\n",
      "宝马（进口）   1.000000\n",
      "凯翼汽车     1.000000\n",
      "一汽吉林     1.000000\n",
      "广汽乘用车    1.000000\n",
      "东南汽车     1.000000\n",
      "\n",
      "[75 rows x 1 columns]\n"
     ]
    }
   ],
   "source": [
    "print('平均车型投诉总数:',df2.sort_values('count',ascending=False))"
   ]
  },
  {
   "cell_type": "code",
   "execution_count": 34,
   "metadata": {},
   "outputs": [],
   "source": [
    "result.to_csv(\"D:\\Anaconda3\\source\\output1.csv\")"
   ]
  },
  {
   "cell_type": "code",
   "execution_count": 35,
   "metadata": {},
   "outputs": [],
   "source": [
    "df.to_csv(\"D:\\Anaconda3\\source\\output2.csv\")"
   ]
  },
  {
   "cell_type": "code",
   "execution_count": 36,
   "metadata": {},
   "outputs": [],
   "source": [
    "df1.to_csv(\"D:\\Anaconda3\\source\\output3.csv\")"
   ]
  },
  {
   "cell_type": "code",
   "execution_count": 37,
   "metadata": {},
   "outputs": [],
   "source": [
    "df2.to_csv(\"D:\\Anaconda3\\source\\output4.csv\")"
   ]
  }
 ],
 "metadata": {
  "kernelspec": {
   "display_name": "Python 3",
   "language": "python",
   "name": "python3"
  },
  "language_info": {
   "codemirror_mode": {
    "name": "ipython",
    "version": 3
   },
   "file_extension": ".py",
   "mimetype": "text/x-python",
   "name": "python",
   "nbconvert_exporter": "python",
   "pygments_lexer": "ipython3",
   "version": "3.7.6"
  }
 },
 "nbformat": 4,
 "nbformat_minor": 4
}
