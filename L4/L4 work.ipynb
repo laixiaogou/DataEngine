{
 "cells": [
  {
   "cell_type": "code",
   "execution_count": 1,
   "metadata": {},
   "outputs": [],
   "source": [
    "import pandas as pd\n",
    "import numpy as np\n",
    "from mlxtend.frequent_patterns import apriori\n",
    "from mlxtend.frequent_patterns import association_rules"
   ]
  },
  {
   "cell_type": "code",
   "execution_count": 2,
   "metadata": {},
   "outputs": [
    {
     "name": "stdout",
     "output_type": "stream",
     "text": [
      "                 0                  1            2                 3   \\\n",
      "0            shrimp            almonds      avocado    vegetables mix   \n",
      "1           burgers          meatballs         eggs               NaN   \n",
      "2           chutney                NaN          NaN               NaN   \n",
      "3            turkey            avocado          NaN               NaN   \n",
      "4     mineral water               milk   energy bar  whole wheat rice   \n",
      "...             ...                ...          ...               ...   \n",
      "7496         butter         light mayo  fresh bread               NaN   \n",
      "7497        burgers  frozen vegetables         eggs      french fries   \n",
      "7498        chicken                NaN          NaN               NaN   \n",
      "7499       escalope          green tea          NaN               NaN   \n",
      "7500           eggs    frozen smoothie  yogurt cake    low fat yogurt   \n",
      "\n",
      "                4                 5     6               7             8   \\\n",
      "0     green grapes  whole weat flour  yams  cottage cheese  energy drink   \n",
      "1              NaN               NaN   NaN             NaN           NaN   \n",
      "2              NaN               NaN   NaN             NaN           NaN   \n",
      "3              NaN               NaN   NaN             NaN           NaN   \n",
      "4        green tea               NaN   NaN             NaN           NaN   \n",
      "...            ...               ...   ...             ...           ...   \n",
      "7496           NaN               NaN   NaN             NaN           NaN   \n",
      "7497     magazines         green tea   NaN             NaN           NaN   \n",
      "7498           NaN               NaN   NaN             NaN           NaN   \n",
      "7499           NaN               NaN   NaN             NaN           NaN   \n",
      "7500           NaN               NaN   NaN             NaN           NaN   \n",
      "\n",
      "                9               10         11     12     13             14  \\\n",
      "0     tomato juice  low fat yogurt  green tea  honey  salad  mineral water   \n",
      "1              NaN             NaN        NaN    NaN    NaN            NaN   \n",
      "2              NaN             NaN        NaN    NaN    NaN            NaN   \n",
      "3              NaN             NaN        NaN    NaN    NaN            NaN   \n",
      "4              NaN             NaN        NaN    NaN    NaN            NaN   \n",
      "...            ...             ...        ...    ...    ...            ...   \n",
      "7496           NaN             NaN        NaN    NaN    NaN            NaN   \n",
      "7497           NaN             NaN        NaN    NaN    NaN            NaN   \n",
      "7498           NaN             NaN        NaN    NaN    NaN            NaN   \n",
      "7499           NaN             NaN        NaN    NaN    NaN            NaN   \n",
      "7500           NaN             NaN        NaN    NaN    NaN            NaN   \n",
      "\n",
      "          15                 16               17       18         19  \n",
      "0     salmon  antioxydant juice  frozen smoothie  spinach  olive oil  \n",
      "1        NaN                NaN              NaN      NaN        NaN  \n",
      "2        NaN                NaN              NaN      NaN        NaN  \n",
      "3        NaN                NaN              NaN      NaN        NaN  \n",
      "4        NaN                NaN              NaN      NaN        NaN  \n",
      "...      ...                ...              ...      ...        ...  \n",
      "7496     NaN                NaN              NaN      NaN        NaN  \n",
      "7497     NaN                NaN              NaN      NaN        NaN  \n",
      "7498     NaN                NaN              NaN      NaN        NaN  \n",
      "7499     NaN                NaN              NaN      NaN        NaN  \n",
      "7500     NaN                NaN              NaN      NaN        NaN  \n",
      "\n",
      "[7501 rows x 20 columns]\n",
      "(7501, 20)\n"
     ]
    }
   ],
   "source": [
    "dataset = pd.read_csv('D:\\data engine/Market_Basket_Optimisation.csv',header=None)\n",
    "print(dataset)\n",
    "print(dataset.shape)"
   ]
  },
  {
   "cell_type": "markdown",
   "metadata": {},
   "source": [
    "##基于mlxtend的数据关联分析\n",
    "##数据整理"
   ]
  },
  {
   "cell_type": "code",
   "execution_count": 30,
   "metadata": {},
   "outputs": [
    {
     "name": "stdout",
     "output_type": "stream",
     "text": [
      "                                           MarketBasket\n",
      "0     shrimp|almonds|avocado|vegetables mix|green gr...\n",
      "1                               burgers|meatballs|eggs|\n",
      "2                                              chutney|\n",
      "3                                       turkey|avocado|\n",
      "4     mineral water|milk|energy bar|whole wheat rice...\n",
      "...                                                 ...\n",
      "7496                     butter|light mayo|fresh bread|\n",
      "7497  burgers|frozen vegetables|eggs|french fries|ma...\n",
      "7498                                           chicken|\n",
      "7499                                escalope|green tea|\n",
      "7500   eggs|frozen smoothie|yogurt cake|low fat yogurt|\n",
      "\n",
      "[7501 rows x 1 columns]\n"
     ]
    }
   ],
   "source": [
    "temp_list=[]\n",
    "for i in range(0,dataset.shape[0]):\n",
    "    temp_str=''\n",
    "    for j in range(0,dataset.shape[1]):\n",
    "        if str(dataset.values[i,j]) != 'nan':\n",
    "            temp_str += str(dataset.values[i,j])+'|'\n",
    "    temp_list.append(temp_str)\n",
    "dataset_new = pd.DataFrame(data=temp_list)\n",
    "dataset_new.columns = ['MarketBasket']\n",
    "print(dataset_new)\n",
    "dataset_new.to_csv('temp_data.csv',index=True)"
   ]
  },
  {
   "cell_type": "markdown",
   "metadata": {},
   "source": [
    "##对数据进行one-hot编码"
   ]
  },
  {
   "cell_type": "code",
   "execution_count": 14,
   "metadata": {},
   "outputs": [
    {
     "name": "stdout",
     "output_type": "stream",
     "text": [
      "       asparagus  almonds  antioxydant juice  asparagus  avocado  babies food  \\\n",
      "0              0        1                  1          0        1            0   \n",
      "1              0        0                  0          0        0            0   \n",
      "2              0        0                  0          0        0            0   \n",
      "3              0        0                  0          0        1            0   \n",
      "4              0        0                  0          0        0            0   \n",
      "...          ...      ...                ...        ...      ...          ...   \n",
      "7496           0        0                  0          0        0            0   \n",
      "7497           0        0                  0          0        0            0   \n",
      "7498           0        0                  0          0        0            0   \n",
      "7499           0        0                  0          0        0            0   \n",
      "7500           0        0                  0          0        0            0   \n",
      "\n",
      "      bacon  barbecue sauce  black tea  blueberries  ...  turkey  \\\n",
      "0         0               0          0            0  ...       0   \n",
      "1         0               0          0            0  ...       0   \n",
      "2         0               0          0            0  ...       0   \n",
      "3         0               0          0            0  ...       1   \n",
      "4         0               0          0            0  ...       0   \n",
      "...     ...             ...        ...          ...  ...     ...   \n",
      "7496      0               0          0            0  ...       0   \n",
      "7497      0               0          0            0  ...       0   \n",
      "7498      0               0          0            0  ...       0   \n",
      "7499      0               0          0            0  ...       0   \n",
      "7500      0               0          0            0  ...       0   \n",
      "\n",
      "      vegetables mix  water spray  white wine  whole weat flour  \\\n",
      "0                  1            0           0                 1   \n",
      "1                  0            0           0                 0   \n",
      "2                  0            0           0                 0   \n",
      "3                  0            0           0                 0   \n",
      "4                  0            0           0                 0   \n",
      "...              ...          ...         ...               ...   \n",
      "7496               0            0           0                 0   \n",
      "7497               0            0           0                 0   \n",
      "7498               0            0           0                 0   \n",
      "7499               0            0           0                 0   \n",
      "7500               0            0           0                 0   \n",
      "\n",
      "      whole wheat pasta  whole wheat rice  yams  yogurt cake  zucchini  \n",
      "0                     0                 0     1            0         0  \n",
      "1                     0                 0     0            0         0  \n",
      "2                     0                 0     0            0         0  \n",
      "3                     0                 0     0            0         0  \n",
      "4                     0                 1     0            0         0  \n",
      "...                 ...               ...   ...          ...       ...  \n",
      "7496                  0                 0     0            0         0  \n",
      "7497                  0                 0     0            0         0  \n",
      "7498                  0                 0     0            0         0  \n",
      "7499                  0                 0     0            0         0  \n",
      "7500                  0                 0     0            1         0  \n",
      "\n",
      "[7501 rows x 120 columns]\n"
     ]
    }
   ],
   "source": [
    "dataset_new_hot_encoded = dataset_new.drop('MarketBasket',1).join(dataset_new.MarketBasket.str.get_dummies('|'))\n",
    "print(dataset_new_hot_encoded)"
   ]
  },
  {
   "cell_type": "code",
   "execution_count": 15,
   "metadata": {},
   "outputs": [
    {
     "name": "stdout",
     "output_type": "stream",
     "text": [
      "       asparagus  almonds  antioxydant juice  asparagus  avocado  babies food  \\\n",
      "0              0        1                  1          0        1            0   \n",
      "1              0        0                  0          0        0            0   \n",
      "2              0        0                  0          0        0            0   \n",
      "3              0        0                  0          0        1            0   \n",
      "4              0        0                  0          0        0            0   \n",
      "...          ...      ...                ...        ...      ...          ...   \n",
      "7496           0        0                  0          0        0            0   \n",
      "7497           0        0                  0          0        0            0   \n",
      "7498           0        0                  0          0        0            0   \n",
      "7499           0        0                  0          0        0            0   \n",
      "7500           0        0                  0          0        0            0   \n",
      "\n",
      "      bacon  barbecue sauce  black tea  blueberries  ...  turkey  \\\n",
      "0         0               0          0            0  ...       0   \n",
      "1         0               0          0            0  ...       0   \n",
      "2         0               0          0            0  ...       0   \n",
      "3         0               0          0            0  ...       1   \n",
      "4         0               0          0            0  ...       0   \n",
      "...     ...             ...        ...          ...  ...     ...   \n",
      "7496      0               0          0            0  ...       0   \n",
      "7497      0               0          0            0  ...       0   \n",
      "7498      0               0          0            0  ...       0   \n",
      "7499      0               0          0            0  ...       0   \n",
      "7500      0               0          0            0  ...       0   \n",
      "\n",
      "      vegetables mix  water spray  white wine  whole weat flour  \\\n",
      "0                  1            0           0                 1   \n",
      "1                  0            0           0                 0   \n",
      "2                  0            0           0                 0   \n",
      "3                  0            0           0                 0   \n",
      "4                  0            0           0                 0   \n",
      "...              ...          ...         ...               ...   \n",
      "7496               0            0           0                 0   \n",
      "7497               0            0           0                 0   \n",
      "7498               0            0           0                 0   \n",
      "7499               0            0           0                 0   \n",
      "7500               0            0           0                 0   \n",
      "\n",
      "      whole wheat pasta  whole wheat rice  yams  yogurt cake  zucchini  \n",
      "0                     0                 0     1            0         0  \n",
      "1                     0                 0     0            0         0  \n",
      "2                     0                 0     0            0         0  \n",
      "3                     0                 0     0            0         0  \n",
      "4                     0                 1     0            0         0  \n",
      "...                 ...               ...   ...          ...       ...  \n",
      "7496                  0                 0     0            0         0  \n",
      "7497                  0                 0     0            0         0  \n",
      "7498                  0                 0     0            0         0  \n",
      "7499                  0                 0     0            0         0  \n",
      "7500                  0                 0     0            1         0  \n",
      "\n",
      "[7501 rows x 120 columns]\n"
     ]
    }
   ],
   "source": [
    "dataset_new_hot_encoded = dataset_new_hot_encoded.dropna(axis=1)\n",
    "print(dataset_new_hot_encoded)"
   ]
  },
  {
   "cell_type": "markdown",
   "metadata": {},
   "source": [
    "##挖掘频繁项集"
   ]
  },
  {
   "cell_type": "code",
   "execution_count": 16,
   "metadata": {},
   "outputs": [
    {
     "name": "stdout",
     "output_type": "stream",
     "text": [
      "-------------------- 频繁项集 --------------------\n",
      "     support                    itemsets\n",
      "16  0.238368             (mineral water)\n",
      "6   0.179709                      (eggs)\n",
      "21  0.174110                 (spaghetti)\n",
      "8   0.170911              (french fries)\n",
      "3   0.163845                 (chocolate)\n",
      "12  0.132116                 (green tea)\n",
      "15  0.129583                      (milk)\n",
      "13  0.098254               (ground beef)\n",
      "10  0.095321         (frozen vegetables)\n",
      "18  0.095054                  (pancakes)\n",
      "0   0.087188                   (burgers)\n",
      "1   0.081056                      (cake)\n",
      "4   0.080389                   (cookies)\n",
      "7   0.079323                  (escalope)\n",
      "14  0.076523            (low fat yogurt)\n",
      "19  0.071457                    (shrimp)\n",
      "22  0.068391                  (tomatoes)\n",
      "17  0.065858                 (olive oil)\n",
      "9   0.063325           (frozen smoothie)\n",
      "23  0.062525                    (turkey)\n",
      "2   0.059992                   (chicken)\n",
      "27  0.059725  (spaghetti, mineral water)\n",
      "24  0.058526          (whole wheat rice)\n",
      "25  0.052660  (chocolate, mineral water)\n",
      "11  0.052393             (grated cheese)\n",
      "5   0.051060               (cooking oil)\n",
      "26  0.050927       (eggs, mineral water)\n",
      "20  0.050527                      (soup)\n"
     ]
    }
   ],
   "source": [
    "itemsets = apriori(dataset_new_hot_encoded,use_colnames=True, min_support=0.05)\n",
    "itemsets = itemsets.sort_values(by=\"support\" , ascending=False) \n",
    "print('-'*20, '频繁项集', '-'*20)\n",
    "print(itemsets)"
   ]
  },
  {
   "cell_type": "markdown",
   "metadata": {},
   "source": [
    "\n",
    "# 根据频繁项集计算关联规则"
   ]
  },
  {
   "cell_type": "code",
   "execution_count": 17,
   "metadata": {},
   "outputs": [
    {
     "name": "stdout",
     "output_type": "stream",
     "text": [
      "-------------------- 关联规则 --------------------\n",
      "       antecedents      consequents  antecedent support  consequent support  \\\n",
      "0      (spaghetti)  (mineral water)            0.174110            0.238368   \n",
      "1  (mineral water)      (spaghetti)            0.238368            0.174110   \n",
      "2      (chocolate)  (mineral water)            0.163845            0.238368   \n",
      "3  (mineral water)      (chocolate)            0.238368            0.163845   \n",
      "4           (eggs)  (mineral water)            0.179709            0.238368   \n",
      "5  (mineral water)           (eggs)            0.238368            0.179709   \n",
      "\n",
      "    support  confidence      lift  leverage  conviction  \n",
      "0  0.059725    0.343032  1.439085  0.018223    1.159314  \n",
      "1  0.059725    0.250559  1.439085  0.018223    1.102008  \n",
      "2  0.052660    0.321400  1.348332  0.013604    1.122357  \n",
      "3  0.052660    0.220917  1.348332  0.013604    1.073256  \n",
      "4  0.050927    0.283383  1.188845  0.008090    1.062815  \n",
      "5  0.050927    0.213647  1.188845  0.008090    1.043158  \n"
     ]
    }
   ],
   "source": [
    "rules =  association_rules(itemsets, metric='lift', min_threshold=1)\n",
    "rules = rules.sort_values(by=\"lift\" , ascending=False) \n",
    "print('-'*20, '关联规则', '-'*20)\n",
    "print(rules)"
   ]
  },
  {
   "cell_type": "markdown",
   "metadata": {},
   "source": [
    "#基于efficient_apriori的数据关联分析"
   ]
  },
  {
   "cell_type": "code",
   "execution_count": 18,
   "metadata": {},
   "outputs": [],
   "source": [
    "from efficient_apriori import apriori"
   ]
  },
  {
   "cell_type": "markdown",
   "metadata": {},
   "source": [
    "#生成transactions数据"
   ]
  },
  {
   "cell_type": "code",
   "execution_count": 28,
   "metadata": {},
   "outputs": [],
   "source": [
    "transactions=[]\n",
    "for i in range(0,dataset.shape[0]):\n",
    "    temp=[]\n",
    "    for j in range(0,dataset.shape[1]):\n",
    "        if str(dataset.values[i,j]) !='nan':\n",
    "            temp.append(dataset.values[i,j])\n",
    "        transactions.append(temp)"
   ]
  },
  {
   "cell_type": "code",
   "execution_count": 29,
   "metadata": {},
   "outputs": [
    {
     "name": "stdout",
     "output_type": "stream",
     "text": [
      "频繁项集： {1: {('low fat yogurt',): 11480, ('green tea',): 19820, ('frozen smoothie',): 9500, ('olive oil',): 9880, ('mineral water',): 35760, ('shrimp',): 10720, ('eggs',): 26960, ('burgers',): 13080, ('turkey',): 9380, ('whole wheat rice',): 8780, ('milk',): 19440, ('french fries',): 25640, ('soup',): 7580, ('spaghetti',): 26120, ('frozen vegetables',): 14300, ('cookies',): 12060, ('cooking oil',): 7660, ('chicken',): 9000, ('chocolate',): 24580, ('tomatoes',): 10260, ('pancakes',): 14260, ('grated cheese',): 7860, ('ground beef',): 14740, ('escalope',): 11900, ('cake',): 12160}, 2: {('eggs', 'mineral water'): 7640, ('mineral water', 'spaghetti'): 8960, ('chocolate', 'mineral water'): 7900}}\n",
      "关联规则： [{mineral water} -> {eggs}, {eggs} -> {mineral water}, {spaghetti} -> {mineral water}, {mineral water} -> {spaghetti}, {mineral water} -> {chocolate}, {chocolate} -> {mineral water}]\n"
     ]
    }
   ],
   "source": [
    "itemsets,rules = apriori(transactions, min_support=0.05, min_confidence=0.2)\n",
    "print('频繁项集：', itemsets)\n",
    "print('关联规则：', rules)"
   ]
  },
  {
   "cell_type": "code",
   "execution_count": null,
   "metadata": {},
   "outputs": [],
   "source": []
  }
 ],
 "metadata": {
  "kernelspec": {
   "display_name": "Python 3",
   "language": "python",
   "name": "python3"
  },
  "language_info": {
   "codemirror_mode": {
    "name": "ipython",
    "version": 3
   },
   "file_extension": ".py",
   "mimetype": "text/x-python",
   "name": "python",
   "nbconvert_exporter": "python",
   "pygments_lexer": "ipython3",
   "version": "3.7.6"
  }
 },
 "nbformat": 4,
 "nbformat_minor": 4
}
