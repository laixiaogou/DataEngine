{
 "cells": [
  {
   "cell_type": "code",
   "execution_count": 1,
   "metadata": {},
   "outputs": [],
   "source": [
    "import pandas as pd"
   ]
  },
  {
   "cell_type": "code",
   "execution_count": 3,
   "metadata": {},
   "outputs": [],
   "source": [
    "a={'语文':[68,95,98,90,80],\n",
    "  '数学':[65,76,86,88,90],\n",
    "  '英语':[30,98,88,77,90]}"
   ]
  },
  {
   "cell_type": "code",
   "execution_count": 4,
   "metadata": {},
   "outputs": [
    {
     "data": {
      "text/html": [
       "<div>\n",
       "<style scoped>\n",
       "    .dataframe tbody tr th:only-of-type {\n",
       "        vertical-align: middle;\n",
       "    }\n",
       "\n",
       "    .dataframe tbody tr th {\n",
       "        vertical-align: top;\n",
       "    }\n",
       "\n",
       "    .dataframe thead th {\n",
       "        text-align: right;\n",
       "    }\n",
       "</style>\n",
       "<table border=\"1\" class=\"dataframe\">\n",
       "  <thead>\n",
       "    <tr style=\"text-align: right;\">\n",
       "      <th></th>\n",
       "      <th>语文</th>\n",
       "      <th>数学</th>\n",
       "      <th>英语</th>\n",
       "    </tr>\n",
       "    <tr>\n",
       "      <th>姓名</th>\n",
       "      <th></th>\n",
       "      <th></th>\n",
       "      <th></th>\n",
       "    </tr>\n",
       "  </thead>\n",
       "  <tbody>\n",
       "    <tr>\n",
       "      <th>张飞</th>\n",
       "      <td>68</td>\n",
       "      <td>65</td>\n",
       "      <td>30</td>\n",
       "    </tr>\n",
       "    <tr>\n",
       "      <th>关羽</th>\n",
       "      <td>95</td>\n",
       "      <td>76</td>\n",
       "      <td>98</td>\n",
       "    </tr>\n",
       "    <tr>\n",
       "      <th>刘备</th>\n",
       "      <td>98</td>\n",
       "      <td>86</td>\n",
       "      <td>88</td>\n",
       "    </tr>\n",
       "    <tr>\n",
       "      <th>典韦</th>\n",
       "      <td>90</td>\n",
       "      <td>88</td>\n",
       "      <td>77</td>\n",
       "    </tr>\n",
       "    <tr>\n",
       "      <th>许褚</th>\n",
       "      <td>80</td>\n",
       "      <td>90</td>\n",
       "      <td>90</td>\n",
       "    </tr>\n",
       "  </tbody>\n",
       "</table>\n",
       "</div>"
      ],
      "text/plain": [
       "    语文  数学  英语\n",
       "姓名            \n",
       "张飞  68  65  30\n",
       "关羽  95  76  98\n",
       "刘备  98  86  88\n",
       "典韦  90  88  77\n",
       "许褚  80  90  90"
      ]
     },
     "execution_count": 4,
     "metadata": {},
     "output_type": "execute_result"
    }
   ],
   "source": [
    "df=pd.DataFrame(a,index=['张飞','关羽','刘备','典韦','许褚'])\n",
    "df.index.name='姓名'\n",
    "df"
   ]
  },
  {
   "cell_type": "code",
   "execution_count": 15,
   "metadata": {},
   "outputs": [
    {
     "name": "stdout",
     "output_type": "stream",
     "text": [
      "    语文  数学  英语\n",
      "姓名            \n",
      "张飞  68  65  30\n",
      "关羽  95  76  98\n",
      "刘备  98  86  88\n",
      "典韦  90  88  77\n",
      "许褚  80  90  90\n"
     ]
    }
   ],
   "source": [
    "print(df)"
   ]
  },
  {
   "cell_type": "code",
   "execution_count": 21,
   "metadata": {},
   "outputs": [
    {
     "name": "stdout",
     "output_type": "stream",
     "text": [
      "              语文         数学         英语\n",
      "count   5.000000   5.000000   5.000000\n",
      "mean   86.200000  81.000000  76.600000\n",
      "std    12.255611  10.440307  27.107195\n",
      "min    68.000000  65.000000  30.000000\n",
      "20%    77.600000  73.800000  67.600000\n",
      "50%    90.000000  86.000000  88.000000\n",
      "80%    95.600000  88.400000  91.600000\n",
      "max    98.000000  90.000000  98.000000\n",
      "var 150.200000109.000000734.800000\n"
     ]
    }
   ],
   "source": [
    "df2=(df.describe(percentiles=[.2,.8]))\n",
    "ch=df['语文'].var()\n",
    "mt=df['数学'].var()\n",
    "en=df['英语'].var()\n",
    "print(df2)\n",
    "print('var %f%f%f' %(ch,mt,en))"
   ]
  },
  {
   "cell_type": "code",
   "execution_count": 24,
   "metadata": {},
   "outputs": [
    {
     "name": "stdout",
     "output_type": "stream",
     "text": [
      "    语文  数学  英语  score\n",
      "姓名                   \n",
      "刘备  98  86  88    272\n",
      "关羽  95  76  98    269\n",
      "许褚  80  90  90    260\n",
      "典韦  90  88  77    255\n",
      "张飞  68  65  30    163\n"
     ]
    }
   ],
   "source": [
    "df['score']=df['语文']+df['数学']+df['英语']\n",
    "df.sort_values(by=['score'],inplace=True,ascending=False)\n",
    "print(df)"
   ]
  }
 ],
 "metadata": {
  "kernelspec": {
   "display_name": "Python 3",
   "language": "python",
   "name": "python3"
  },
  "language_info": {
   "codemirror_mode": {
    "name": "ipython",
    "version": 3
   },
   "file_extension": ".py",
   "mimetype": "text/x-python",
   "name": "python",
   "nbconvert_exporter": "python",
   "pygments_lexer": "ipython3",
   "version": "3.7.6"
  }
 },
 "nbformat": 4,
 "nbformat_minor": 4
}
