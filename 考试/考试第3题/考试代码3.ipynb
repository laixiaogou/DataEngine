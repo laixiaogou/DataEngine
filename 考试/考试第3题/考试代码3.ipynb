{
 "cells": [
  {
   "cell_type": "code",
   "execution_count": 1,
   "metadata": {},
   "outputs": [],
   "source": [
    "# 使用KMeans进行聚类\n",
    "from sklearn.cluster import KMeans\n",
    "from sklearn import preprocessing\n",
    "import pandas as pd\n",
    "import numpy as np"
   ]
  },
  {
   "cell_type": "code",
   "execution_count": 9,
   "metadata": {},
   "outputs": [
    {
     "name": "stdout",
     "output_type": "stream",
     "text": [
      "(205, 24)\n",
      "     symboling fueltype aspiration doornumber      carbody drivewheel  \\\n",
      "0            3      gas        std        two  convertible        rwd   \n",
      "1            3      gas        std        two  convertible        rwd   \n",
      "2            1      gas        std        two    hatchback        rwd   \n",
      "3            2      gas        std       four        sedan        fwd   \n",
      "4            2      gas        std       four        sedan        4wd   \n",
      "..         ...      ...        ...        ...          ...        ...   \n",
      "200         -1      gas        std       four        sedan        rwd   \n",
      "201         -1      gas      turbo       four        sedan        rwd   \n",
      "202         -1      gas        std       four        sedan        rwd   \n",
      "203         -1   diesel      turbo       four        sedan        rwd   \n",
      "204         -1      gas      turbo       four        sedan        rwd   \n",
      "\n",
      "    enginelocation  wheelbase  carlength  carwidth  ...  enginesize  \\\n",
      "0            front       88.6      168.8      64.1  ...         130   \n",
      "1            front       88.6      168.8      64.1  ...         130   \n",
      "2            front       94.5      171.2      65.5  ...         152   \n",
      "3            front       99.8      176.6      66.2  ...         109   \n",
      "4            front       99.4      176.6      66.4  ...         136   \n",
      "..             ...        ...        ...       ...  ...         ...   \n",
      "200          front      109.1      188.8      68.9  ...         141   \n",
      "201          front      109.1      188.8      68.8  ...         141   \n",
      "202          front      109.1      188.8      68.9  ...         173   \n",
      "203          front      109.1      188.8      68.9  ...         145   \n",
      "204          front      109.1      188.8      68.9  ...         141   \n",
      "\n",
      "     fuelsystem boreratio stroke  compressionratio horsepower  peakrpm  \\\n",
      "0          mpfi      3.47   2.68               9.0        111     5000   \n",
      "1          mpfi      3.47   2.68               9.0        111     5000   \n",
      "2          mpfi      2.68   3.47               9.0        154     5000   \n",
      "3          mpfi      3.19   3.40              10.0        102     5500   \n",
      "4          mpfi      3.19   3.40               8.0        115     5500   \n",
      "..          ...       ...    ...               ...        ...      ...   \n",
      "200        mpfi      3.78   3.15               9.5        114     5400   \n",
      "201        mpfi      3.78   3.15               8.7        160     5300   \n",
      "202        mpfi      3.58   2.87               8.8        134     5500   \n",
      "203         idi      3.01   3.40              23.0        106     4800   \n",
      "204        mpfi      3.78   3.15               9.5        114     5400   \n",
      "\n",
      "     citympg  highwaympg    price  \n",
      "0         21          27  13495.0  \n",
      "1         21          27  16500.0  \n",
      "2         19          26  16500.0  \n",
      "3         24          30  13950.0  \n",
      "4         18          22  17450.0  \n",
      "..       ...         ...      ...  \n",
      "200       23          28  16845.0  \n",
      "201       19          25  19045.0  \n",
      "202       18          23  21485.0  \n",
      "203       26          27  22470.0  \n",
      "204       19          25  22625.0  \n",
      "\n",
      "[205 rows x 24 columns]\n"
     ]
    }
   ],
   "source": [
    "# 数据加载\n",
    "data = pd.read_csv('D:\\data engine\\数据分析训练营-结营考试\\ProjectC/CarPrice_Assignment.csv')\n",
    "train_x = data.drop(['CarName','car_ID'],axis=1)\n",
    "print(train_x.shape)\n",
    "print(train_x)"
   ]
  },
  {
   "cell_type": "code",
   "execution_count": 18,
   "metadata": {},
   "outputs": [
    {
     "name": "stdout",
     "output_type": "stream",
     "text": [
      "     symboling  fueltype  aspiration  doornumber  carbody  drivewheel  \\\n",
      "0            5         1           0           1        0           2   \n",
      "1            5         1           0           1        0           2   \n",
      "2            3         1           0           1        2           2   \n",
      "3            4         1           0           0        3           1   \n",
      "4            4         1           0           0        3           0   \n",
      "..         ...       ...         ...         ...      ...         ...   \n",
      "200          1         1           0           0        3           2   \n",
      "201          1         1           1           0        3           2   \n",
      "202          1         1           0           0        3           2   \n",
      "203          1         0           1           0        3           2   \n",
      "204          1         1           1           0        3           2   \n",
      "\n",
      "     enginelocation  wheelbase  carlength  carwidth  ...  enginesize  \\\n",
      "0                 0          2         22         8  ...          18   \n",
      "1                 0          2         22         8  ...          18   \n",
      "2                 0         10         29        16  ...          28   \n",
      "3                 0         30         45        21  ...          11   \n",
      "4                 0         28         45        23  ...          22   \n",
      "..              ...        ...        ...       ...  ...         ...   \n",
      "200               0         46         63        34  ...          24   \n",
      "201               0         46         63        33  ...          24   \n",
      "202               0         46         63        34  ...          33   \n",
      "203               0         46         63        34  ...          25   \n",
      "204               0         46         63        34  ...          24   \n",
      "\n",
      "     fuelsystem  boreratio  stroke  compressionratio  horsepower  peakrpm  \\\n",
      "0             5         23       4                13          30       10   \n",
      "1             5         23       4                13          30       10   \n",
      "2             5          1      28                13          45       10   \n",
      "3             5         13      25                22          27       16   \n",
      "4             5         13      25                 5          33       16   \n",
      "..          ...        ...     ...               ...         ...      ...   \n",
      "200           5         35      15                20          32       15   \n",
      "201           5         35      15                11          48       14   \n",
      "202           5         26       7                12          38       16   \n",
      "203           3          6      25                31          28        8   \n",
      "204           5         35      15                20          32       15   \n",
      "\n",
      "     citympg  highwaympg  price  \n",
      "0          8          10    118  \n",
      "1          8          10    137  \n",
      "2          6           9    137  \n",
      "3         11          13    123  \n",
      "4          5           5    148  \n",
      "..       ...         ...    ...  \n",
      "200       10          11    143  \n",
      "201        6           8    161  \n",
      "202        5           6    165  \n",
      "203       13          10    167  \n",
      "204        6           8    168  \n",
      "\n",
      "[205 rows x 24 columns]\n"
     ]
    }
   ],
   "source": [
    "# 将部分值改成数字，调用LabelEncoder\n",
    "from sklearn.preprocessing import LabelEncoder\n",
    "le = LabelEncoder()\n",
    "columns=['symboling','fueltype','aspiration','doornumber','carbody','drivewheel','enginelocation','wheelbase','carlength','carwidth','carheight',\n",
    "        'curbweight','enginetype','cylindernumber','enginesize','fuelsystem','boreratio','stroke','compressionratio','horsepower','peakrpm','citympg','highwaympg','price']\n",
    "for column in columns:\n",
    "    train_x[column] = le.fit_transform(train_x[column])\n",
    "print(train_x)"
   ]
  },
  {
   "cell_type": "code",
   "execution_count": 21,
   "metadata": {},
   "outputs": [],
   "source": [
    "# 规范化到 [0,1] 空间\n",
    "min_max_scaler=preprocessing.MinMaxScaler()\n",
    "train_x=min_max_scaler.fit_transform(train_x)"
   ]
  },
  {
   "cell_type": "code",
   "execution_count": 26,
   "metadata": {},
   "outputs": [
    {
     "data": {
      "image/png": "[encoded data removed]",
      "text/plain": [
       "<Figure size 432x288 with 1 Axes>"
      ]
     },
     "metadata": {
      "needs_background": "light"
     },
     "output_type": "display_data"
    }
   ],
   "source": [
    "# K-Means 手肘法：统计不同K取值的误差平方和\n",
    "import matplotlib.pyplot as plt\n",
    "sse=[]\n",
    "for k in range(1,30):\n",
    "    #kmeans算法\n",
    "    kmeans=KMeans(n_clusters=k)\n",
    "    kmeans.fit(train_x)\n",
    "    #计算inertia簇内误差平方和\n",
    "    sse.append(kmeans.inertia_)\n",
    "x=range(1,30)\n",
    "plt.xlabel('k')\n",
    "plt.ylabel('sse')\n",
    "plt.plot(x,sse,'o-')\n",
    "plt.show()"
   ]
  },
  {
   "cell_type": "code",
   "execution_count": 32,
   "metadata": {},
   "outputs": [
    {
     "name": "stdout",
     "output_type": "stream",
     "text": [
      "     car_ID  symboling                   CarName fueltype aspiration  \\\n",
      "0         1          3        alfa-romero giulia      gas        std   \n",
      "1         2          3       alfa-romero stelvio      gas        std   \n",
      "2         3          1  alfa-romero Quadrifoglio      gas        std   \n",
      "3         4          2               audi 100 ls      gas        std   \n",
      "4         5          2                audi 100ls      gas        std   \n",
      "..      ...        ...                       ...      ...        ...   \n",
      "200     201         -1           volvo 145e (sw)      gas        std   \n",
      "201     202         -1               volvo 144ea      gas      turbo   \n",
      "202     203         -1               volvo 244dl      gas        std   \n",
      "203     204         -1                 volvo 246   diesel      turbo   \n",
      "204     205         -1               volvo 264gl      gas      turbo   \n",
      "\n",
      "    doornumber      carbody drivewheel enginelocation  wheelbase  ...  \\\n",
      "0          two  convertible        rwd          front       88.6  ...   \n",
      "1          two  convertible        rwd          front       88.6  ...   \n",
      "2          two    hatchback        rwd          front       94.5  ...   \n",
      "3         four        sedan        fwd          front       99.8  ...   \n",
      "4         four        sedan        4wd          front       99.4  ...   \n",
      "..         ...          ...        ...            ...        ...  ...   \n",
      "200       four        sedan        rwd          front      109.1  ...   \n",
      "201       four        sedan        rwd          front      109.1  ...   \n",
      "202       four        sedan        rwd          front      109.1  ...   \n",
      "203       four        sedan        rwd          front      109.1  ...   \n",
      "204       four        sedan        rwd          front      109.1  ...   \n",
      "\n",
      "     fuelsystem  boreratio  stroke  compressionratio horsepower peakrpm  \\\n",
      "0          mpfi       3.47    2.68               9.0        111    5000   \n",
      "1          mpfi       3.47    2.68               9.0        111    5000   \n",
      "2          mpfi       2.68    3.47               9.0        154    5000   \n",
      "3          mpfi       3.19    3.40              10.0        102    5500   \n",
      "4          mpfi       3.19    3.40               8.0        115    5500   \n",
      "..          ...        ...     ...               ...        ...     ...   \n",
      "200        mpfi       3.78    3.15               9.5        114    5400   \n",
      "201        mpfi       3.78    3.15               8.7        160    5300   \n",
      "202        mpfi       3.58    2.87               8.8        134    5500   \n",
      "203         idi       3.01    3.40              23.0        106    4800   \n",
      "204        mpfi       3.78    3.15               9.5        114    5400   \n",
      "\n",
      "     citympg highwaympg    price  聚类结果  \n",
      "0         21         27  13495.0     5  \n",
      "1         21         27  16500.0     5  \n",
      "2         19         26  16500.0     5  \n",
      "3         24         30  13950.0     8  \n",
      "4         18         22  17450.0     8  \n",
      "..       ...        ...      ...   ...  \n",
      "200       23         28  16845.0     1  \n",
      "201       19         25  19045.0    10  \n",
      "202       18         23  21485.0     1  \n",
      "203       26         27  22470.0     4  \n",
      "204       19         25  22625.0    10  \n",
      "\n",
      "[205 rows x 27 columns]\n"
     ]
    }
   ],
   "source": [
    "### 使用KMeans聚类,k取12\n",
    "kmeans=KMeans(n_clusters=12)\n",
    "kmeans.fit(train_x)\n",
    "predict_y=kmeans.predict(train_x)\n",
    "predict_y\n",
    "# 合并聚类结果，插入到原数据中\n",
    "result=pd.concat((data,pd.DataFrame(predict_y)),axis=1)\n",
    "result.rename({0:u'聚类结果'},axis=1,inplace=True)\n",
    "print(result)"
   ]
  },
  {
   "cell_type": "code",
   "execution_count": 38,
   "metadata": {},
   "outputs": [],
   "source": [
    "result.to_csv(\"大众汽车竞品分析.csv\",index=False,encoding = 'gbk')"
   ]
  }
 ],
 "metadata": {
  "kernelspec": {
   "display_name": "Python 3",
   "language": "python",
   "name": "python3"
  },
  "language_info": {
   "codemirror_mode": {
    "name": "ipython",
    "version": 3
   },
   "file_extension": ".py",
   "mimetype": "text/x-python",
   "name": "python",
   "nbconvert_exporter": "python",
   "pygments_lexer": "ipython3",
   "version": "3.7.6"
  }
 },
 "nbformat": 4,
 "nbformat_minor": 4
}
