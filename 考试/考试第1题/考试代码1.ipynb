{
 "cells": [
  {
   "cell_type": "code",
   "execution_count": 13,
   "metadata": {},
   "outputs": [],
   "source": [
    "import requests\n",
    "from bs4 import BeautifulSoup\n",
    "import pandas as pd\n",
    "import numpy as np"
   ]
  },
  {
   "cell_type": "code",
   "execution_count": 14,
   "metadata": {},
   "outputs": [],
   "source": [
    "#请求URL\n",
    "def get_page_content(request_url):\n",
    "    #得到页面的内容\n",
    "    headers={'user-agent': 'Mozilla/5.0 (Windows NT 10.0; WOW64) AppleWebKit/537.36 (KHTML, like Gecko) Chrome/74.0.3729.131 Safari/537.36'}\n",
    "    html=requests.get(request_url,headers=headers,timeout=10)\n",
    "    content = html.text\n",
    "    # 通过content创建BeautifulSoup对象\n",
    "    soup = BeautifulSoup(content, 'html.parser', from_encoding='utf-8')\n",
    "    return soup"
   ]
  },
  {
   "cell_type": "code",
   "execution_count": 15,
   "metadata": {},
   "outputs": [],
   "source": [
    "def analysis(soup):\n",
    "    temp = soup.find(\"div\",class_ = 'search-result-list')\n",
    "    #提取信息框中需要的信息\n",
    "    car_name = temp.find_all(class_ = 'cx-name text-hover')\n",
    "    car_price = temp.find_all(class_ = 'cx-price')\n",
    "    car_picture = temp.find_all('img' )\n",
    "    #创建DataFrame,将内容添加至df\n",
    "    df=pd.DataFrame(columns=['名称','最低价格（万)','最高价格（万)','产品图片链接'])\n",
    "    for i in range(len(car_name)):\n",
    "        item={}\n",
    "        item['名称']=car_name[i].text\n",
    "        price = car_price[i].text\n",
    "        #价格暂无时，赋值NaN\n",
    "        if price == \"暂无\":\n",
    "           item['最低价格（万)']= np.NaN\n",
    "           item['最高价格（万)']= np.NaN\n",
    "        elif '-' in price:\n",
    "           item['最低价格（万)']=float(price.split('-')[0])\n",
    "           item['最高价格（万)']=float(price.split('-')[1][:-1])  \n",
    "        else:\n",
    "           item['最低价格（万)']=float(price[:-1])\n",
    "           item['最高价格（万)']=float(price[:-1]) \n",
    "        item['产品图片链接']='http:'+ car_picture[i]['src']\n",
    "        df=df.append(item, ignore_index=True)\n",
    "    return df"
   ]
  },
  {
   "cell_type": "code",
   "execution_count": 23,
   "metadata": {},
   "outputs": [
    {
     "name": "stderr",
     "output_type": "stream",
     "text": [
      "D:\\Anaconda3\\lib\\site-packages\\bs4\\__init__.py:203: UserWarning: You provided Unicode markup but also provided a value for from_encoding. Your from_encoding will be ignored.\n",
      "  warnings.warn(\"You provided Unicode markup but also provided a value for from_encoding. Your from_encoding will be ignored.\")\n",
      "D:\\Anaconda3\\lib\\site-packages\\bs4\\__init__.py:203: UserWarning: You provided Unicode markup but also provided a value for from_encoding. Your from_encoding will be ignored.\n",
      "  warnings.warn(\"You provided Unicode markup but also provided a value for from_encoding. Your from_encoding will be ignored.\")\n"
     ]
    },
    {
     "name": "stdout",
     "output_type": "stream",
     "text": [
      "         名称  最低价格（万)  最高价格（万)  \\\n",
      "0        宝来     9.88    15.60   \n",
      "1        朗逸     9.99    16.19   \n",
      "2       桑塔纳     8.69    11.59   \n",
      "3        速腾    12.89    19.19   \n",
      "4        迈腾    18.61    30.99   \n",
      "5        探岳    18.59    31.39   \n",
      "6        凌渡    14.29    19.69   \n",
      "7       高尔夫    14.13    23.42   \n",
      "8        途岳    16.58    22.38   \n",
      "9       帕萨特    18.49    28.29   \n",
      "10      途观L    21.88    31.18   \n",
      "11       途昂    29.99    50.59   \n",
      "12       途铠    11.49    15.99   \n",
      "13       探歌    13.58    20.38   \n",
      "14  一汽-大众CC    24.68    30.18   \n",
      "15       探影    11.49    15.99   \n",
      "16       途观    19.48    23.18   \n",
      "17     Polo     9.99    12.39   \n",
      "18      探岳X    23.58    29.58   \n",
      "19       辉昂    34.00    63.90   \n",
      "\n",
      "                                               产品图片链接  \n",
      "0   http://img2.bitautoimg.com/autoalbum/files/201...  \n",
      "1   http://img4.bitautoimg.com/autoalbum/files/201...  \n",
      "2   http://img4.bitautoimg.com/autoalbum/files/201...  \n",
      "3   http://img2.bitautoimg.com/autoalbum/files/201...  \n",
      "4   http://img1.bitautoimg.com/autoalbum/files/201...  \n",
      "5   http://img2.bitautoimg.com/autoalbum/files/201...  \n",
      "6   http://img1.bitautoimg.com/autoalbum/files/201...  \n",
      "7   http://img2.bitautoimg.com/autoalbum/files/201...  \n",
      "8   http://img2.bitautoimg.com/autoalbum/files/201...  \n",
      "9   http://img1.bitautoimg.com/autoalbum/files/201...  \n",
      "10  http://img4.bitautoimg.com/autoalbum/files/201...  \n",
      "11  http://img3.bitautoimg.com/autoalbum/files/201...  \n",
      "12  http://img2.bitautoimg.com/autoalbum/files/201...  \n",
      "13  http://img4.bitautoimg.com/autoalbum/files/201...  \n",
      "14  http://img1.bitautoimg.com/autoalbum/files/201...  \n",
      "15  http://img1.bitautoimg.com/autoalbum/files/201...  \n",
      "16  http://img1.bitautoimg.com/autoalbum/files/201...  \n",
      "17  http://img1.bitautoimg.com/autoalbum/files/201...  \n",
      "18  http://img1.bitautoimg.com/autoalbum/files/202...  \n",
      "19  http://img2.bitautoimg.com/autoalbum/files/201...  \n",
      "            名称  最低价格（万)  最高价格（万)  \\\n",
      "0          途昂X    28.99    43.99   \n",
      "1           途锐    56.98    82.18   \n",
      "2           威然    28.68    39.98   \n",
      "3          途安L    15.18    19.48   \n",
      "4           蔚领    12.59    14.97   \n",
      "5          甲壳虫    17.88    25.58   \n",
      "6       高尔夫·嘉旅    12.88    19.28   \n",
      "7      高尔夫(进口)    20.98    37.28   \n",
      "8       Tiguan    23.98    35.08   \n",
      "9     途观L 插电混动    26.58    32.58   \n",
      "10    帕萨特 插电混动    24.39    25.39   \n",
      "11  探岳GTE 插电混动    24.98    25.98   \n",
      "12        朗逸纯电    14.89    14.89   \n",
      "13          蔚揽    24.38    39.28   \n",
      "14  迈腾GTE 插电混动    25.39    26.89   \n",
      "15         迈特威    42.80    50.68   \n",
      "16          夏朗    24.68    34.38   \n",
      "17       宝来·纯电    13.68    14.68   \n",
      "18         凯路威    35.50    38.20   \n",
      "19      高尔夫·纯电    14.77    16.88   \n",
      "\n",
      "                                               产品图片链接  \n",
      "0   http://img1.bitautoimg.com/autoalbum/files/201...  \n",
      "1   http://img3.bitautoimg.com/autoalbum/files/201...  \n",
      "2   http://img2.bitautoimg.com/autoalbum/files/202...  \n",
      "3   http://img2.bitautoimg.com/autoalbum/files/201...  \n",
      "4   http://img3.bitautoimg.com/autoalbum/files/201...  \n",
      "5   http://img2.bitautoimg.com/autoalbum/files/201...  \n",
      "6   http://img3.bitautoimg.com/autoalbum/files/201...  \n",
      "7   http://img3.bitautoimg.com/autoalbum/files/201...  \n",
      "8   http://img1.bitautoimg.com/autoalbum/files/201...  \n",
      "9   http://img4.bitautoimg.com/autoalbum/files/201...  \n",
      "10  http://img3.bitautoimg.com/autoalbum/files/201...  \n",
      "11  http://img3.bitautoimg.com/autoalbum/files/202...  \n",
      "12  http://img2.bitautoimg.com/autoalbum/files/201...  \n",
      "13  http://img2.bitautoimg.com/autoalbum/files/201...  \n",
      "14  http://img2.bitautoimg.com/autoalbum/files/202...  \n",
      "15  http://img1.bitautoimg.com/autoalbum/files/201...  \n",
      "16  http://img1.bitautoimg.com/autoalbum/files/201...  \n",
      "17  http://img4.bitautoimg.com/autoalbum/files/201...  \n",
      "18  http://img2.bitautoimg.com/autoalbum/files/201...  \n",
      "19  http://img2.bitautoimg.com/autoalbum/files/201...  \n",
      "            名称  最低价格（万)  最高价格（万)  \\\n",
      "0      蔚揽 插电混动    30.18    30.18   \n",
      "1  高尔夫 纯电动(进口)    24.08    24.08   \n",
      "2      途锐 插电混动      NaN      NaN   \n",
      "3     Polo(海外)      NaN      NaN   \n",
      "\n",
      "                                              产品图片链接  \n",
      "0  http://img1.bitautoimg.com/autoalbum/files/201...  \n",
      "1  http://img2.bitautoimg.com/autoalbum/files/202...  \n",
      "2  http://img4.bitautoimg.com/autoalbum/files/201...  \n",
      "3  http://img4.bitautoimg.com/autoalbum/files/201...  \n"
     ]
    },
    {
     "name": "stderr",
     "output_type": "stream",
     "text": [
      "D:\\Anaconda3\\lib\\site-packages\\bs4\\__init__.py:203: UserWarning: You provided Unicode markup but also provided a value for from_encoding. Your from_encoding will be ignored.\n",
      "  warnings.warn(\"You provided Unicode markup but also provided a value for from_encoding. Your from_encoding will be ignored.\")\n"
     ]
    }
   ],
   "source": [
    "page_num=3\n",
    "base_url='http://car.bitauto.com/xuanchegongju/?mid=8' \n",
    "result = pd.DataFrame(columns=['名称','最低价格（万)','最高价格（万)','产品图片链接'])\n",
    "for i in range(page_num):\n",
    "    request_url=base_url+ '&page='+ str(i+1)\n",
    "    soup = get_page_content(request_url)\n",
    "    df=analysis(soup)\n",
    "    print(df)\n",
    "    result = result.append(df)"
   ]
  },
  {
   "cell_type": "code",
   "execution_count": 24,
   "metadata": {},
   "outputs": [],
   "source": [
    "result.to_csv('price_volkswagen.csv',index=False,encoding='gbk')"
   ]
  }
 ],
 "metadata": {
  "kernelspec": {
   "display_name": "Python 3",
   "language": "python",
   "name": "python3"
  },
  "language_info": {
   "codemirror_mode": {
    "name": "ipython",
    "version": 3
   },
   "file_extension": ".py",
   "mimetype": "text/x-python",
   "name": "python",
   "nbconvert_exporter": "python",
   "pygments_lexer": "ipython3",
   "version": "3.7.6"
  }
 },
 "nbformat": 4,
 "nbformat_minor": 4
}
